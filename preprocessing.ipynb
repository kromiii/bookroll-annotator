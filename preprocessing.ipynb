{
 "cells": [
  {
   "cell_type": "code",
   "execution_count": 1,
   "metadata": {},
   "outputs": [],
   "source": [
    "import pandas as pd"
   ]
  },
  {
   "cell_type": "code",
   "execution_count": 2,
   "metadata": {},
   "outputs": [],
   "source": [
    "eventstream = pd.read_csv('data/Course_1_EventStream.csv')"
   ]
  },
  {
   "cell_type": "code",
   "execution_count": 5,
   "metadata": {},
   "outputs": [
    {
     "data": {
      "text/html": [
       "<div>\n",
       "<style scoped>\n",
       "    .dataframe tbody tr th:only-of-type {\n",
       "        vertical-align: middle;\n",
       "    }\n",
       "\n",
       "    .dataframe tbody tr th {\n",
       "        vertical-align: top;\n",
       "    }\n",
       "\n",
       "    .dataframe thead th {\n",
       "        text-align: right;\n",
       "    }\n",
       "</style>\n",
       "<table border=\"1\" class=\"dataframe\">\n",
       "  <thead>\n",
       "    <tr style=\"text-align: right;\">\n",
       "      <th></th>\n",
       "      <th>userid</th>\n",
       "      <th>contentsid</th>\n",
       "      <th>operationname</th>\n",
       "      <th>pageno</th>\n",
       "      <th>devicecode</th>\n",
       "      <th>eventtime</th>\n",
       "    </tr>\n",
       "  </thead>\n",
       "  <tbody>\n",
       "    <tr>\n",
       "      <td>0</td>\n",
       "      <td>53f36368-2a6d-451c-83c9-328ac4a73052</td>\n",
       "      <td>82cec96096d4281b7c95cd7e74623496</td>\n",
       "      <td>OPEN</td>\n",
       "      <td>1</td>\n",
       "      <td>pc</td>\n",
       "      <td>2020-04-06 18:05:53</td>\n",
       "    </tr>\n",
       "    <tr>\n",
       "      <td>1</td>\n",
       "      <td>53f36368-2a6d-451c-83c9-328ac4a73052</td>\n",
       "      <td>82cec96096d4281b7c95cd7e74623496</td>\n",
       "      <td>OPEN_RECOMMENDATION</td>\n",
       "      <td>1</td>\n",
       "      <td>pc</td>\n",
       "      <td>2020-04-06 18:06:02</td>\n",
       "    </tr>\n",
       "    <tr>\n",
       "      <td>2</td>\n",
       "      <td>53f36368-2a6d-451c-83c9-328ac4a73052</td>\n",
       "      <td>82cec96096d4281b7c95cd7e74623496</td>\n",
       "      <td>CLOSE_RECOMMENDATION</td>\n",
       "      <td>1</td>\n",
       "      <td>pc</td>\n",
       "      <td>2020-04-06 18:11:19</td>\n",
       "    </tr>\n",
       "    <tr>\n",
       "      <td>3</td>\n",
       "      <td>53f36368-2a6d-451c-83c9-328ac4a73052</td>\n",
       "      <td>82cec96096d4281b7c95cd7e74623496</td>\n",
       "      <td>TIMER_PAUSE</td>\n",
       "      <td>1</td>\n",
       "      <td>pc</td>\n",
       "      <td>2020-04-06 18:11:19</td>\n",
       "    </tr>\n",
       "    <tr>\n",
       "      <td>4</td>\n",
       "      <td>53f36368-2a6d-451c-83c9-328ac4a73052</td>\n",
       "      <td>82cec96096d4281b7c95cd7e74623496</td>\n",
       "      <td>OPEN_RECOMMENDATION</td>\n",
       "      <td>1</td>\n",
       "      <td>pc</td>\n",
       "      <td>2020-04-06 18:12:10</td>\n",
       "    </tr>\n",
       "    <tr>\n",
       "      <td>...</td>\n",
       "      <td>...</td>\n",
       "      <td>...</td>\n",
       "      <td>...</td>\n",
       "      <td>...</td>\n",
       "      <td>...</td>\n",
       "      <td>...</td>\n",
       "    </tr>\n",
       "    <tr>\n",
       "      <td>51270</td>\n",
       "      <td>d068ed7a-904a-4741-9c7a-a21654838d5b</td>\n",
       "      <td>a96d3afec184766bfeca7a9f989fc7e7</td>\n",
       "      <td>NEXT</td>\n",
       "      <td>5</td>\n",
       "      <td>pc</td>\n",
       "      <td>2020-11-04 13:50:25</td>\n",
       "    </tr>\n",
       "    <tr>\n",
       "      <td>51271</td>\n",
       "      <td>d068ed7a-904a-4741-9c7a-a21654838d5b</td>\n",
       "      <td>a96d3afec184766bfeca7a9f989fc7e7</td>\n",
       "      <td>NEXT</td>\n",
       "      <td>1</td>\n",
       "      <td>pc</td>\n",
       "      <td>2020-11-04 13:50:24</td>\n",
       "    </tr>\n",
       "    <tr>\n",
       "      <td>51272</td>\n",
       "      <td>d068ed7a-904a-4741-9c7a-a21654838d5b</td>\n",
       "      <td>a96d3afec184766bfeca7a9f989fc7e7</td>\n",
       "      <td>NEXT</td>\n",
       "      <td>2</td>\n",
       "      <td>pc</td>\n",
       "      <td>2020-11-04 13:50:24</td>\n",
       "    </tr>\n",
       "    <tr>\n",
       "      <td>51273</td>\n",
       "      <td>d068ed7a-904a-4741-9c7a-a21654838d5b</td>\n",
       "      <td>a96d3afec184766bfeca7a9f989fc7e7</td>\n",
       "      <td>PREV</td>\n",
       "      <td>3</td>\n",
       "      <td>pc</td>\n",
       "      <td>2020-11-04 13:50:10</td>\n",
       "    </tr>\n",
       "    <tr>\n",
       "      <td>51274</td>\n",
       "      <td>d068ed7a-904a-4741-9c7a-a21654838d5b</td>\n",
       "      <td>a96d3afec184766bfeca7a9f989fc7e7</td>\n",
       "      <td>PREV</td>\n",
       "      <td>2</td>\n",
       "      <td>pc</td>\n",
       "      <td>2020-11-04 13:50:10</td>\n",
       "    </tr>\n",
       "  </tbody>\n",
       "</table>\n",
       "<p>51275 rows × 6 columns</p>\n",
       "</div>"
      ],
      "text/plain": [
       "                                     userid                        contentsid  \\\n",
       "0      53f36368-2a6d-451c-83c9-328ac4a73052  82cec96096d4281b7c95cd7e74623496   \n",
       "1      53f36368-2a6d-451c-83c9-328ac4a73052  82cec96096d4281b7c95cd7e74623496   \n",
       "2      53f36368-2a6d-451c-83c9-328ac4a73052  82cec96096d4281b7c95cd7e74623496   \n",
       "3      53f36368-2a6d-451c-83c9-328ac4a73052  82cec96096d4281b7c95cd7e74623496   \n",
       "4      53f36368-2a6d-451c-83c9-328ac4a73052  82cec96096d4281b7c95cd7e74623496   \n",
       "...                                     ...                               ...   \n",
       "51270  d068ed7a-904a-4741-9c7a-a21654838d5b  a96d3afec184766bfeca7a9f989fc7e7   \n",
       "51271  d068ed7a-904a-4741-9c7a-a21654838d5b  a96d3afec184766bfeca7a9f989fc7e7   \n",
       "51272  d068ed7a-904a-4741-9c7a-a21654838d5b  a96d3afec184766bfeca7a9f989fc7e7   \n",
       "51273  d068ed7a-904a-4741-9c7a-a21654838d5b  a96d3afec184766bfeca7a9f989fc7e7   \n",
       "51274  d068ed7a-904a-4741-9c7a-a21654838d5b  a96d3afec184766bfeca7a9f989fc7e7   \n",
       "\n",
       "              operationname  pageno devicecode            eventtime  \n",
       "0                      OPEN       1         pc  2020-04-06 18:05:53  \n",
       "1       OPEN_RECOMMENDATION       1         pc  2020-04-06 18:06:02  \n",
       "2      CLOSE_RECOMMENDATION       1         pc  2020-04-06 18:11:19  \n",
       "3               TIMER_PAUSE       1         pc  2020-04-06 18:11:19  \n",
       "4       OPEN_RECOMMENDATION       1         pc  2020-04-06 18:12:10  \n",
       "...                     ...     ...        ...                  ...  \n",
       "51270                  NEXT       5         pc  2020-11-04 13:50:25  \n",
       "51271                  NEXT       1         pc  2020-11-04 13:50:24  \n",
       "51272                  NEXT       2         pc  2020-11-04 13:50:24  \n",
       "51273                  PREV       3         pc  2020-11-04 13:50:10  \n",
       "51274                  PREV       2         pc  2020-11-04 13:50:10  \n",
       "\n",
       "[51275 rows x 6 columns]"
      ]
     },
     "execution_count": 5,
     "metadata": {},
     "output_type": "execute_result"
    }
   ],
   "source": [
    "eventstream"
   ]
  },
  {
   "cell_type": "code",
   "execution_count": 6,
   "metadata": {},
   "outputs": [],
   "source": [
    "eventstream = eventstream[eventstream.userid != '53f36368-2a6d-451c-83c9-328ac4a73052']"
   ]
  },
  {
   "cell_type": "code",
   "execution_count": 8,
   "metadata": {},
   "outputs": [],
   "source": [
    "eventstream = eventstream[eventstream.userid != '9af9e018-1637-4c01-9f8a-91a779982240']"
   ]
  },
  {
   "cell_type": "code",
   "execution_count": 10,
   "metadata": {},
   "outputs": [],
   "source": [
    "eventstream = eventstream[eventstream.userid != '1f3658b1-3fee-4d68-aaba-5b4170150bd5']"
   ]
  },
  {
   "cell_type": "code",
   "execution_count": 12,
   "metadata": {},
   "outputs": [],
   "source": [
    "eventstream = eventstream[eventstream.userid != 'd068ed7a-904a-4741-9c7a-a21654838d5b']"
   ]
  },
  {
   "cell_type": "code",
   "execution_count": 13,
   "metadata": {},
   "outputs": [],
   "source": [
    "eventstream.to_csv('data/Course_1_EventStream.csv', index=False)"
   ]
  },
  {
   "cell_type": "code",
   "execution_count": null,
   "metadata": {},
   "outputs": [],
   "source": []
  }
 ],
 "metadata": {
  "kernelspec": {
   "display_name": "Python 3",
   "language": "python",
   "name": "python3"
  },
  "language_info": {
   "codemirror_mode": {
    "name": "ipython",
    "version": 3
   },
   "file_extension": ".py",
   "mimetype": "text/x-python",
   "name": "python",
   "nbconvert_exporter": "python",
   "pygments_lexer": "ipython3",
   "version": "3.7.4"
  }
 },
 "nbformat": 4,
 "nbformat_minor": 2
}
