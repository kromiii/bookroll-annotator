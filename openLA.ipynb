{
 "cells": [
  {
   "cell_type": "code",
   "execution_count": 1,
   "metadata": {},
   "outputs": [],
   "source": [
    "import openLA as la"
   ]
  },
  {
   "cell_type": "code",
   "execution_count": 63,
   "metadata": {},
   "outputs": [],
   "source": [
    "operation_names = [\"OPEN\", \"CLOSE\", \"ADD MARKER\", \"ADD MEMO\", \"ADD BOOKMARK\", \"NEXT\", \"PREV\"]"
   ]
  },
  {
   "cell_type": "code",
   "execution_count": 40,
   "metadata": {},
   "outputs": [],
   "source": [
    "course_info = la.CourseInformation(files_dir=\"data\", course_id=\"1\")"
   ]
  },
  {
   "cell_type": "code",
   "execution_count": 41,
   "metadata": {},
   "outputs": [],
   "source": [
    "event_stream = course_info.load_eventstream()"
   ]
  },
  {
   "cell_type": "code",
   "execution_count": 42,
   "metadata": {},
   "outputs": [],
   "source": [
    "users = course_info.user_id()\n",
    "contents = course_info.contents_id()\n",
    "lectures = course_info.lecture_week()"
   ]
  },
  {
   "cell_type": "code",
   "execution_count": 46,
   "metadata": {},
   "outputs": [
    {
     "data": {
      "text/plain": [
       "['d9fc5b73a8d78fad3d6dffe419384e70',\n",
       " '42998cf32d552343bc8e460416382dca',\n",
       " '97e8527feaf77a97fc38f34216141515',\n",
       " '5e388103a391daabe3de1d76a6739ccd',\n",
       " '51ef186e18dc00c2d31982567235c559',\n",
       " 'd8700cbd38cc9f30cecb34f0c195b137',\n",
       " '7eb3c8be3d411e8ebfab08eba5f49632',\n",
       " 'ab541d874c7bc19ab77642849e02b89f',\n",
       " '39027dfad5138c9ca0c474d71db915c3',\n",
       " 'a96d3afec184766bfeca7a9f989fc7e7',\n",
       " '9afefc52942cb83c7c1f14b2139b09ba',\n",
       " 'cd3afef9b8b89558cd56638c3631868a',\n",
       " '4aecfbe5d21e3f7912bf8eb29124423a',\n",
       " '43e4e6a6f341e00671e123714de019a8',\n",
       " '70c445ee64b1ed0583367a12a79a9ef2',\n",
       " 'dda04f9d634145a9c68d5dfe53b21272',\n",
       " '5ac8bb8a7d745102a978c5f8ccdb61b8']"
      ]
     },
     "execution_count": 46,
     "metadata": {},
     "output_type": "execute_result"
    }
   ],
   "source": [
    "contents"
   ]
  },
  {
   "cell_type": "code",
   "execution_count": 47,
   "metadata": {},
   "outputs": [
    {
     "data": {
      "text/plain": [
       "7"
      ]
     },
     "execution_count": 47,
     "metadata": {},
     "output_type": "execute_result"
    }
   ],
   "source": [
    "course_info.contents_id_to_lecture_week(contents_id=\"cd3afef9b8b89558cd56638c3631868a\")"
   ]
  },
  {
   "cell_type": "code",
   "execution_count": 48,
   "metadata": {},
   "outputs": [
    {
     "data": {
      "text/plain": [
       "array(['d9fc5b73a8d78fad3d6dffe419384e70',\n",
       "       '42998cf32d552343bc8e460416382dca',\n",
       "       '97e8527feaf77a97fc38f34216141515',\n",
       "       '5e388103a391daabe3de1d76a6739ccd',\n",
       "       '51ef186e18dc00c2d31982567235c559'], dtype=object)"
      ]
     },
     "execution_count": 48,
     "metadata": {},
     "output_type": "execute_result"
    }
   ],
   "source": [
    "course_info.lecture_week_to_contents_id(lecture_week=1)"
   ]
  },
  {
   "cell_type": "code",
   "execution_count": 49,
   "metadata": {},
   "outputs": [],
   "source": [
    "user_score = course_info.user_score(users[0])"
   ]
  },
  {
   "cell_type": "code",
   "execution_count": 50,
   "metadata": {},
   "outputs": [
    {
     "data": {
      "text/plain": [
       "92.0"
      ]
     },
     "execution_count": 50,
     "metadata": {},
     "output_type": "execute_result"
    }
   ],
   "source": [
    "user_score"
   ]
  },
  {
   "cell_type": "code",
   "execution_count": 26,
   "metadata": {},
   "outputs": [
    {
     "data": {
      "text/plain": [
       "['778b7916-cd2b-4fd8-886c-ef69c3cd984d',\n",
       " 'b57ebbca-5902-4f14-a198-bd615fa6132e',\n",
       " '8813d5b3-1780-4578-b9c2-7301f3ab5ad6',\n",
       " '8d613b04-fd2d-428e-8dfe-338ae08db18a',\n",
       " '23ea2f92-3a4d-4196-a968-0f05785b420e',\n",
       " '2375925f-62b3-4e62-a0e4-0c148c310b86',\n",
       " '4a0be7f7-eb6c-479c-8cc3-991d2c0d294d',\n",
       " '35ffef61-ffad-477b-915b-05af729cf3aa',\n",
       " '824927ad-dcb2-49af-b8a2-21b70b9e9c55',\n",
       " 'e0ee70c8-fc28-4fb6-951a-fdfe496efefe',\n",
       " '5583b306-c8b4-4f38-b48f-fc71b02950d4',\n",
       " '593ad106-9740-4016-a249-6c07c1f88718',\n",
       " '72cdeae0-f242-4c69-a0fa-0b36ea75de94',\n",
       " '791c40ec-7c32-4dae-8649-16628008c6bf',\n",
       " '60808ed2-884b-4b60-8959-002fece1cdcf']"
      ]
     },
     "execution_count": 26,
     "metadata": {},
     "output_type": "execute_result"
    }
   ],
   "source": [
    "high_score_users = course_info.users_in_selected_score(users, top=100, bottom=90)\n",
    "high_score_users"
   ]
  },
  {
   "cell_type": "code",
   "execution_count": 33,
   "metadata": {},
   "outputs": [],
   "source": [
    "operation_count = la.convert_into_operation_count(event_stream=event_stream, operation_name=[\"OPEN\", \"CLOSE\", \"ADD MARKER\", \"ADD MEMO\", \"ADD BOOKMARK\"], separate_marker_type=False)"
   ]
  },
  {
   "cell_type": "code",
   "execution_count": 34,
   "metadata": {},
   "outputs": [
    {
     "data": {
      "text/html": [
       "<div>\n",
       "<style scoped>\n",
       "    .dataframe tbody tr th:only-of-type {\n",
       "        vertical-align: middle;\n",
       "    }\n",
       "\n",
       "    .dataframe tbody tr th {\n",
       "        vertical-align: top;\n",
       "    }\n",
       "\n",
       "    .dataframe thead th {\n",
       "        text-align: right;\n",
       "    }\n",
       "</style>\n",
       "<table border=\"1\" class=\"dataframe\">\n",
       "  <thead>\n",
       "    <tr style=\"text-align: right;\">\n",
       "      <th></th>\n",
       "      <th>userid</th>\n",
       "      <th>contentsid</th>\n",
       "      <th>OPEN</th>\n",
       "      <th>CLOSE</th>\n",
       "      <th>ADD MARKER</th>\n",
       "      <th>ADD MEMO</th>\n",
       "      <th>ADD BOOKMARK</th>\n",
       "    </tr>\n",
       "  </thead>\n",
       "  <tbody>\n",
       "    <tr>\n",
       "      <td>0</td>\n",
       "      <td>00a2cf2d-98e3-400d-a567-a48f53a4b0a0</td>\n",
       "      <td>7eb3c8be3d411e8ebfab08eba5f49632</td>\n",
       "      <td>3.0</td>\n",
       "      <td>3.0</td>\n",
       "      <td>9.0</td>\n",
       "      <td>0.0</td>\n",
       "      <td>1.0</td>\n",
       "    </tr>\n",
       "    <tr>\n",
       "      <td>1</td>\n",
       "      <td>00a2cf2d-98e3-400d-a567-a48f53a4b0a0</td>\n",
       "      <td>9afefc52942cb83c7c1f14b2139b09ba</td>\n",
       "      <td>1.0</td>\n",
       "      <td>1.0</td>\n",
       "      <td>0.0</td>\n",
       "      <td>0.0</td>\n",
       "      <td>0.0</td>\n",
       "    </tr>\n",
       "    <tr>\n",
       "      <td>2</td>\n",
       "      <td>00a2cf2d-98e3-400d-a567-a48f53a4b0a0</td>\n",
       "      <td>a96d3afec184766bfeca7a9f989fc7e7</td>\n",
       "      <td>3.0</td>\n",
       "      <td>2.0</td>\n",
       "      <td>0.0</td>\n",
       "      <td>0.0</td>\n",
       "      <td>0.0</td>\n",
       "    </tr>\n",
       "    <tr>\n",
       "      <td>3</td>\n",
       "      <td>01e9bea5-3d15-4140-ae8c-9b58db210286</td>\n",
       "      <td>42998cf32d552343bc8e460416382dca</td>\n",
       "      <td>3.0</td>\n",
       "      <td>1.0</td>\n",
       "      <td>0.0</td>\n",
       "      <td>0.0</td>\n",
       "      <td>0.0</td>\n",
       "    </tr>\n",
       "    <tr>\n",
       "      <td>4</td>\n",
       "      <td>01e9bea5-3d15-4140-ae8c-9b58db210286</td>\n",
       "      <td>7eb3c8be3d411e8ebfab08eba5f49632</td>\n",
       "      <td>2.0</td>\n",
       "      <td>1.0</td>\n",
       "      <td>15.0</td>\n",
       "      <td>0.0</td>\n",
       "      <td>0.0</td>\n",
       "    </tr>\n",
       "    <tr>\n",
       "      <td>...</td>\n",
       "      <td>...</td>\n",
       "      <td>...</td>\n",
       "      <td>...</td>\n",
       "      <td>...</td>\n",
       "      <td>...</td>\n",
       "      <td>...</td>\n",
       "      <td>...</td>\n",
       "    </tr>\n",
       "    <tr>\n",
       "      <td>526</td>\n",
       "      <td>f175e8b5-b2bc-4822-b2b0-074737d348b5</td>\n",
       "      <td>4aecfbe5d21e3f7912bf8eb29124423a</td>\n",
       "      <td>1.0</td>\n",
       "      <td>0.0</td>\n",
       "      <td>0.0</td>\n",
       "      <td>0.0</td>\n",
       "      <td>0.0</td>\n",
       "    </tr>\n",
       "    <tr>\n",
       "      <td>527</td>\n",
       "      <td>f175e8b5-b2bc-4822-b2b0-074737d348b5</td>\n",
       "      <td>5ac8bb8a7d745102a978c5f8ccdb61b8</td>\n",
       "      <td>1.0</td>\n",
       "      <td>0.0</td>\n",
       "      <td>0.0</td>\n",
       "      <td>0.0</td>\n",
       "      <td>0.0</td>\n",
       "    </tr>\n",
       "    <tr>\n",
       "      <td>528</td>\n",
       "      <td>f175e8b5-b2bc-4822-b2b0-074737d348b5</td>\n",
       "      <td>7eb3c8be3d411e8ebfab08eba5f49632</td>\n",
       "      <td>1.0</td>\n",
       "      <td>0.0</td>\n",
       "      <td>14.0</td>\n",
       "      <td>0.0</td>\n",
       "      <td>0.0</td>\n",
       "    </tr>\n",
       "    <tr>\n",
       "      <td>529</td>\n",
       "      <td>f175e8b5-b2bc-4822-b2b0-074737d348b5</td>\n",
       "      <td>9afefc52942cb83c7c1f14b2139b09ba</td>\n",
       "      <td>1.0</td>\n",
       "      <td>0.0</td>\n",
       "      <td>0.0</td>\n",
       "      <td>0.0</td>\n",
       "      <td>0.0</td>\n",
       "    </tr>\n",
       "    <tr>\n",
       "      <td>530</td>\n",
       "      <td>f175e8b5-b2bc-4822-b2b0-074737d348b5</td>\n",
       "      <td>a96d3afec184766bfeca7a9f989fc7e7</td>\n",
       "      <td>2.0</td>\n",
       "      <td>1.0</td>\n",
       "      <td>15.0</td>\n",
       "      <td>0.0</td>\n",
       "      <td>0.0</td>\n",
       "    </tr>\n",
       "  </tbody>\n",
       "</table>\n",
       "<p>531 rows × 7 columns</p>\n",
       "</div>"
      ],
      "text/plain": [
       "                                   userid                        contentsid  \\\n",
       "0    00a2cf2d-98e3-400d-a567-a48f53a4b0a0  7eb3c8be3d411e8ebfab08eba5f49632   \n",
       "1    00a2cf2d-98e3-400d-a567-a48f53a4b0a0  9afefc52942cb83c7c1f14b2139b09ba   \n",
       "2    00a2cf2d-98e3-400d-a567-a48f53a4b0a0  a96d3afec184766bfeca7a9f989fc7e7   \n",
       "3    01e9bea5-3d15-4140-ae8c-9b58db210286  42998cf32d552343bc8e460416382dca   \n",
       "4    01e9bea5-3d15-4140-ae8c-9b58db210286  7eb3c8be3d411e8ebfab08eba5f49632   \n",
       "..                                    ...                               ...   \n",
       "526  f175e8b5-b2bc-4822-b2b0-074737d348b5  4aecfbe5d21e3f7912bf8eb29124423a   \n",
       "527  f175e8b5-b2bc-4822-b2b0-074737d348b5  5ac8bb8a7d745102a978c5f8ccdb61b8   \n",
       "528  f175e8b5-b2bc-4822-b2b0-074737d348b5  7eb3c8be3d411e8ebfab08eba5f49632   \n",
       "529  f175e8b5-b2bc-4822-b2b0-074737d348b5  9afefc52942cb83c7c1f14b2139b09ba   \n",
       "530  f175e8b5-b2bc-4822-b2b0-074737d348b5  a96d3afec184766bfeca7a9f989fc7e7   \n",
       "\n",
       "     OPEN  CLOSE  ADD MARKER  ADD MEMO  ADD BOOKMARK  \n",
       "0     3.0    3.0         9.0       0.0           1.0  \n",
       "1     1.0    1.0         0.0       0.0           0.0  \n",
       "2     3.0    2.0         0.0       0.0           0.0  \n",
       "3     3.0    1.0         0.0       0.0           0.0  \n",
       "4     2.0    1.0        15.0       0.0           0.0  \n",
       "..    ...    ...         ...       ...           ...  \n",
       "526   1.0    0.0         0.0       0.0           0.0  \n",
       "527   1.0    0.0         0.0       0.0           0.0  \n",
       "528   1.0    0.0        14.0       0.0           0.0  \n",
       "529   1.0    0.0         0.0       0.0           0.0  \n",
       "530   2.0    1.0        15.0       0.0           0.0  \n",
       "\n",
       "[531 rows x 7 columns]"
      ]
     },
     "execution_count": 34,
     "metadata": {},
     "output_type": "execute_result"
    }
   ],
   "source": [
    "operation_count.df"
   ]
  },
  {
   "cell_type": "code",
   "execution_count": 35,
   "metadata": {},
   "outputs": [
    {
     "data": {
      "text/plain": [
       "<matplotlib.axes._subplots.AxesSubplot at 0x23d22f9cd08>"
      ]
     },
     "execution_count": 35,
     "metadata": {},
     "output_type": "execute_result"
    },
    {
     "data": {
      "image/png": "[encoded data removed]",
      "text/plain": [
       "<Figure size 432x288 with 1 Axes>"
      ]
     },
     "metadata": {
      "needs_background": "light"
     },
     "output_type": "display_data"
    }
   ],
   "source": [
    "la.visualize_operation_count_bar(operation_count, calculate_type=\"average\")"
   ]
  },
  {
   "cell_type": "code",
   "execution_count": 64,
   "metadata": {},
   "outputs": [],
   "source": [
    "behavior_each_page = la.convert_into_page_wise(event_stream=event_stream,\n",
    "                                              user_id=None,\n",
    "                                              contents_id=course_info.contents_id()[0],\n",
    "                                              invalid_seconds=5,\n",
    "                                              timeout_seconds=10*20,\n",
    "                                              count_operation=True,\n",
    "                                              operation_name=operation_names,\n",
    "                                              separate_marker_type=False)"
   ]
  },
  {
   "cell_type": "code",
   "execution_count": 65,
   "metadata": {},
   "outputs": [
    {
     "data": {
      "text/html": [
       "<div>\n",
       "<style scoped>\n",
       "    .dataframe tbody tr th:only-of-type {\n",
       "        vertical-align: middle;\n",
       "    }\n",
       "\n",
       "    .dataframe tbody tr th {\n",
       "        vertical-align: top;\n",
       "    }\n",
       "\n",
       "    .dataframe thead th {\n",
       "        text-align: right;\n",
       "    }\n",
       "</style>\n",
       "<table border=\"1\" class=\"dataframe\">\n",
       "  <thead>\n",
       "    <tr style=\"text-align: right;\">\n",
       "      <th></th>\n",
       "      <th>userid</th>\n",
       "      <th>contentsid</th>\n",
       "      <th>pageno</th>\n",
       "      <th>reading_seconds</th>\n",
       "      <th>OPEN</th>\n",
       "      <th>CLOSE</th>\n",
       "      <th>ADD MARKER</th>\n",
       "      <th>ADD MEMO</th>\n",
       "      <th>ADD BOOKMARK</th>\n",
       "      <th>NEXT</th>\n",
       "      <th>PREV</th>\n",
       "    </tr>\n",
       "  </thead>\n",
       "  <tbody>\n",
       "    <tr>\n",
       "      <td>0</td>\n",
       "      <td>01e9bea5-3d15-4140-ae8c-9b58db210286</td>\n",
       "      <td>d9fc5b73a8d78fad3d6dffe419384e70</td>\n",
       "      <td>1</td>\n",
       "      <td>112</td>\n",
       "      <td>0</td>\n",
       "      <td>0</td>\n",
       "      <td>0</td>\n",
       "      <td>0</td>\n",
       "      <td>0</td>\n",
       "      <td>1</td>\n",
       "      <td>0</td>\n",
       "    </tr>\n",
       "    <tr>\n",
       "      <td>1</td>\n",
       "      <td>01e9bea5-3d15-4140-ae8c-9b58db210286</td>\n",
       "      <td>d9fc5b73a8d78fad3d6dffe419384e70</td>\n",
       "      <td>2</td>\n",
       "      <td>9</td>\n",
       "      <td>0</td>\n",
       "      <td>0</td>\n",
       "      <td>0</td>\n",
       "      <td>0</td>\n",
       "      <td>0</td>\n",
       "      <td>0</td>\n",
       "      <td>0</td>\n",
       "    </tr>\n",
       "    <tr>\n",
       "      <td>2</td>\n",
       "      <td>01e9bea5-3d15-4140-ae8c-9b58db210286</td>\n",
       "      <td>d9fc5b73a8d78fad3d6dffe419384e70</td>\n",
       "      <td>3</td>\n",
       "      <td>31</td>\n",
       "      <td>0</td>\n",
       "      <td>0</td>\n",
       "      <td>0</td>\n",
       "      <td>0</td>\n",
       "      <td>0</td>\n",
       "      <td>1</td>\n",
       "      <td>0</td>\n",
       "    </tr>\n",
       "    <tr>\n",
       "      <td>3</td>\n",
       "      <td>01e9bea5-3d15-4140-ae8c-9b58db210286</td>\n",
       "      <td>d9fc5b73a8d78fad3d6dffe419384e70</td>\n",
       "      <td>4</td>\n",
       "      <td>31</td>\n",
       "      <td>0</td>\n",
       "      <td>0</td>\n",
       "      <td>0</td>\n",
       "      <td>0</td>\n",
       "      <td>0</td>\n",
       "      <td>1</td>\n",
       "      <td>0</td>\n",
       "    </tr>\n",
       "    <tr>\n",
       "      <td>4</td>\n",
       "      <td>01e9bea5-3d15-4140-ae8c-9b58db210286</td>\n",
       "      <td>d9fc5b73a8d78fad3d6dffe419384e70</td>\n",
       "      <td>5</td>\n",
       "      <td>6</td>\n",
       "      <td>0</td>\n",
       "      <td>0</td>\n",
       "      <td>0</td>\n",
       "      <td>0</td>\n",
       "      <td>0</td>\n",
       "      <td>0</td>\n",
       "      <td>0</td>\n",
       "    </tr>\n",
       "    <tr>\n",
       "      <td>...</td>\n",
       "      <td>...</td>\n",
       "      <td>...</td>\n",
       "      <td>...</td>\n",
       "      <td>...</td>\n",
       "      <td>...</td>\n",
       "      <td>...</td>\n",
       "      <td>...</td>\n",
       "      <td>...</td>\n",
       "      <td>...</td>\n",
       "      <td>...</td>\n",
       "      <td>...</td>\n",
       "    </tr>\n",
       "    <tr>\n",
       "      <td>58</td>\n",
       "      <td>e7714721-99ce-451c-8421-a242bbda4988</td>\n",
       "      <td>d9fc5b73a8d78fad3d6dffe419384e70</td>\n",
       "      <td>6</td>\n",
       "      <td>16</td>\n",
       "      <td>0</td>\n",
       "      <td>0</td>\n",
       "      <td>0</td>\n",
       "      <td>0</td>\n",
       "      <td>0</td>\n",
       "      <td>1</td>\n",
       "      <td>0</td>\n",
       "    </tr>\n",
       "    <tr>\n",
       "      <td>59</td>\n",
       "      <td>e7714721-99ce-451c-8421-a242bbda4988</td>\n",
       "      <td>d9fc5b73a8d78fad3d6dffe419384e70</td>\n",
       "      <td>7</td>\n",
       "      <td>14</td>\n",
       "      <td>0</td>\n",
       "      <td>0</td>\n",
       "      <td>0</td>\n",
       "      <td>0</td>\n",
       "      <td>0</td>\n",
       "      <td>1</td>\n",
       "      <td>0</td>\n",
       "    </tr>\n",
       "    <tr>\n",
       "      <td>60</td>\n",
       "      <td>e7714721-99ce-451c-8421-a242bbda4988</td>\n",
       "      <td>d9fc5b73a8d78fad3d6dffe419384e70</td>\n",
       "      <td>10</td>\n",
       "      <td>8</td>\n",
       "      <td>0</td>\n",
       "      <td>0</td>\n",
       "      <td>0</td>\n",
       "      <td>0</td>\n",
       "      <td>0</td>\n",
       "      <td>0</td>\n",
       "      <td>0</td>\n",
       "    </tr>\n",
       "    <tr>\n",
       "      <td>61</td>\n",
       "      <td>e9b4a84e-4369-42fe-b502-faf24d895dd6</td>\n",
       "      <td>d9fc5b73a8d78fad3d6dffe419384e70</td>\n",
       "      <td>4</td>\n",
       "      <td>21</td>\n",
       "      <td>0</td>\n",
       "      <td>0</td>\n",
       "      <td>0</td>\n",
       "      <td>0</td>\n",
       "      <td>0</td>\n",
       "      <td>1</td>\n",
       "      <td>0</td>\n",
       "    </tr>\n",
       "    <tr>\n",
       "      <td>62</td>\n",
       "      <td>e9b4a84e-4369-42fe-b502-faf24d895dd6</td>\n",
       "      <td>d9fc5b73a8d78fad3d6dffe419384e70</td>\n",
       "      <td>5</td>\n",
       "      <td>27</td>\n",
       "      <td>0</td>\n",
       "      <td>0</td>\n",
       "      <td>0</td>\n",
       "      <td>0</td>\n",
       "      <td>0</td>\n",
       "      <td>0</td>\n",
       "      <td>2</td>\n",
       "    </tr>\n",
       "  </tbody>\n",
       "</table>\n",
       "<p>63 rows × 11 columns</p>\n",
       "</div>"
      ],
      "text/plain": [
       "                                  userid                        contentsid  \\\n",
       "0   01e9bea5-3d15-4140-ae8c-9b58db210286  d9fc5b73a8d78fad3d6dffe419384e70   \n",
       "1   01e9bea5-3d15-4140-ae8c-9b58db210286  d9fc5b73a8d78fad3d6dffe419384e70   \n",
       "2   01e9bea5-3d15-4140-ae8c-9b58db210286  d9fc5b73a8d78fad3d6dffe419384e70   \n",
       "3   01e9bea5-3d15-4140-ae8c-9b58db210286  d9fc5b73a8d78fad3d6dffe419384e70   \n",
       "4   01e9bea5-3d15-4140-ae8c-9b58db210286  d9fc5b73a8d78fad3d6dffe419384e70   \n",
       "..                                   ...                               ...   \n",
       "58  e7714721-99ce-451c-8421-a242bbda4988  d9fc5b73a8d78fad3d6dffe419384e70   \n",
       "59  e7714721-99ce-451c-8421-a242bbda4988  d9fc5b73a8d78fad3d6dffe419384e70   \n",
       "60  e7714721-99ce-451c-8421-a242bbda4988  d9fc5b73a8d78fad3d6dffe419384e70   \n",
       "61  e9b4a84e-4369-42fe-b502-faf24d895dd6  d9fc5b73a8d78fad3d6dffe419384e70   \n",
       "62  e9b4a84e-4369-42fe-b502-faf24d895dd6  d9fc5b73a8d78fad3d6dffe419384e70   \n",
       "\n",
       "    pageno  reading_seconds  OPEN  CLOSE  ADD MARKER  ADD MEMO  ADD BOOKMARK  \\\n",
       "0        1              112     0      0           0         0             0   \n",
       "1        2                9     0      0           0         0             0   \n",
       "2        3               31     0      0           0         0             0   \n",
       "3        4               31     0      0           0         0             0   \n",
       "4        5                6     0      0           0         0             0   \n",
       "..     ...              ...   ...    ...         ...       ...           ...   \n",
       "58       6               16     0      0           0         0             0   \n",
       "59       7               14     0      0           0         0             0   \n",
       "60      10                8     0      0           0         0             0   \n",
       "61       4               21     0      0           0         0             0   \n",
       "62       5               27     0      0           0         0             0   \n",
       "\n",
       "    NEXT  PREV  \n",
       "0      1     0  \n",
       "1      0     0  \n",
       "2      1     0  \n",
       "3      1     0  \n",
       "4      0     0  \n",
       "..   ...   ...  \n",
       "58     1     0  \n",
       "59     1     0  \n",
       "60     0     0  \n",
       "61     1     0  \n",
       "62     0     2  \n",
       "\n",
       "[63 rows x 11 columns]"
      ]
     },
     "execution_count": 65,
     "metadata": {},
     "output_type": "execute_result"
    }
   ],
   "source": [
    "behavior_each_page.df"
   ]
  },
  {
   "cell_type": "code",
   "execution_count": 66,
   "metadata": {},
   "outputs": [
    {
     "data": {
      "text/plain": [
       "(<matplotlib.axes._subplots.AxesSubplot at 0x23d243468c8>,\n",
       " <matplotlib.axes._subplots.AxesSubplot at 0x23d243bbf08>)"
      ]
     },
     "execution_count": 66,
     "metadata": {},
     "output_type": "execute_result"
    },
    {
     "data": {
      "image/png": "[encoded data removed]",
      "text/plain": [
       "<Figure size 720x360 with 2 Axes>"
      ]
     },
     "metadata": {
      "needs_background": "light"
     },
     "output_type": "display_data"
    }
   ],
   "source": [
    "la.visualize_behavior_in_pages(behavior_each_page,\n",
    "                              user_id=None,\n",
    "                              contents_id=contents[0],\n",
    "                              is_plot_operation=True,\n",
    "                              is_plot_reading_time=True,\n",
    "                              operation_name=None,\n",
    "                              reading_time_basis=\"minutes\",\n",
    "                              calculate_type=\"average\",\n",
    "                              operation_bar_colors=None,\n",
    "                              reading_time_color=\"brown\",\n",
    "                              figsize=(10,5))"
   ]
  },
  {
   "cell_type": "code",
   "execution_count": null,
   "metadata": {},
   "outputs": [],
   "source": []
  }
 ],
 "metadata": {
  "kernelspec": {
   "display_name": "Python 3",
   "language": "python",
   "name": "python3"
  },
  "language_info": {
   "codemirror_mode": {
    "name": "ipython",
    "version": 3
   },
   "file_extension": ".py",
   "mimetype": "text/x-python",
   "name": "python",
   "nbconvert_exporter": "python",
   "pygments_lexer": "ipython3",
   "version": "3.7.4"
  }
 },
 "nbformat": 4,
 "nbformat_minor": 2
}
